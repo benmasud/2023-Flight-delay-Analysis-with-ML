{
 "cells": [
  {
   "cell_type": "code",
   "execution_count": 8,
   "metadata": {},
   "outputs": [],
   "source": [
    "import pandas as pd\n",
    "from sklearn.model_selection import train_test_split\n",
    "from sklearn.metrics import mean_squared_error\n",
    "from xgboost import XGBRegressor\n",
    "from sklearn.preprocessing import LabelEncoder\n",
    "from xgboost import XGBClassifier\n",
    "from sklearn.metrics import accuracy_score, classification_report\n",
    "import matplotlib.pyplot as plt\n",
    "import seaborn as sns\n",
    "from sklearn.metrics import confusion_matrix"
   ]
  },
  {
   "cell_type": "code",
   "execution_count": 9,
   "metadata": {},
   "outputs": [],
   "source": [
    "df = pd.read_csv('./Dataset/merged_airline_delay_data.csv')"
   ]
  },
  {
   "cell_type": "code",
   "execution_count": 10,
   "metadata": {},
   "outputs": [
    {
     "data": {
      "text/plain": [
       "Index(['YEAR', 'MONTH', 'DAY_OF_MONTH', 'FL_DATE', 'OP_UNIQUE_CARRIER',\n",
       "       'TAIL_NUM', 'OP_CARRIER_FL_NUM', 'ORIGIN_AIRPORT_ID', 'ORIGIN',\n",
       "       'ORIGIN_CITY_NAME', 'ORIGIN_STATE_NM', 'DEST_AIRPORT_ID', 'DEST',\n",
       "       'DEST_CITY_NAME', 'DEST_STATE_NM', 'CRS_DEP_TIME', 'DEP_TIME',\n",
       "       'DEP_DELAY', 'DEP_DELAY_NEW', 'CRS_ARR_TIME', 'ARR_TIME', 'ARR_DELAY',\n",
       "       'ARR_DELAY_NEW', 'CANCELLED', 'CANCELLATION_CODE', 'DIVERTED',\n",
       "       'AIR_TIME', 'DISTANCE', 'CARRIER_DELAY', 'WEATHER_DELAY', 'NAS_DELAY',\n",
       "       'SECURITY_DELAY', 'LATE_AIRCRAFT_DELAY'],\n",
       "      dtype='object')"
      ]
     },
     "execution_count": 10,
     "metadata": {},
     "output_type": "execute_result"
    }
   ],
   "source": [
    "df.columns"
   ]
  },
  {
   "cell_type": "code",
   "execution_count": 11,
   "metadata": {},
   "outputs": [],
   "source": [
    "df.drop(['YEAR', 'DAY_OF_MONTH', 'FL_DATE', 'OP_UNIQUE_CARRIER',\n",
    "         'OP_CARRIER_FL_NUM', 'ORIGIN_AIRPORT_ID', 'ORIGIN_CITY_NAME',\n",
    "         'DEST_AIRPORT_ID', 'DEST_CITY_NAME', 'DEP_DELAY_NEW', 'ARR_DELAY_NEW',\n",
    "         'CANCELLATION_CODE'], axis=1, inplace=True)"
   ]
  },
  {
   "cell_type": "code",
   "execution_count": 12,
   "metadata": {},
   "outputs": [
    {
     "data": {
      "text/plain": [
       "Index(['MONTH', 'TAIL_NUM', 'ORIGIN', 'ORIGIN_STATE_NM', 'DEST',\n",
       "       'DEST_STATE_NM', 'CRS_DEP_TIME', 'DEP_TIME', 'DEP_DELAY',\n",
       "       'CRS_ARR_TIME', 'ARR_TIME', 'ARR_DELAY', 'CANCELLED', 'DIVERTED',\n",
       "       'AIR_TIME', 'DISTANCE', 'CARRIER_DELAY', 'WEATHER_DELAY', 'NAS_DELAY',\n",
       "       'SECURITY_DELAY', 'LATE_AIRCRAFT_DELAY'],\n",
       "      dtype='object')"
      ]
     },
     "execution_count": 12,
     "metadata": {},
     "output_type": "execute_result"
    }
   ],
   "source": [
    "df.columns"
   ]
  },
  {
   "cell_type": "code",
   "execution_count": 13,
   "metadata": {},
   "outputs": [
    {
     "name": "stdout",
     "output_type": "stream",
     "text": [
      "<class 'pandas.core.frame.DataFrame'>\n",
      "RangeIndex: 4545422 entries, 0 to 4545421\n",
      "Data columns (total 21 columns):\n",
      " #   Column               Dtype  \n",
      "---  ------               -----  \n",
      " 0   MONTH                int64  \n",
      " 1   TAIL_NUM             object \n",
      " 2   ORIGIN               object \n",
      " 3   ORIGIN_STATE_NM      object \n",
      " 4   DEST                 object \n",
      " 5   DEST_STATE_NM        object \n",
      " 6   CRS_DEP_TIME         int64  \n",
      " 7   DEP_TIME             float64\n",
      " 8   DEP_DELAY            float64\n",
      " 9   CRS_ARR_TIME         int64  \n",
      " 10  ARR_TIME             float64\n",
      " 11  ARR_DELAY            float64\n",
      " 12  CANCELLED            int64  \n",
      " 13  DIVERTED             int64  \n",
      " 14  AIR_TIME             float64\n",
      " 15  DISTANCE             int64  \n",
      " 16  CARRIER_DELAY        float64\n",
      " 17  WEATHER_DELAY        float64\n",
      " 18  NAS_DELAY            float64\n",
      " 19  SECURITY_DELAY       float64\n",
      " 20  LATE_AIRCRAFT_DELAY  float64\n",
      "dtypes: float64(10), int64(6), object(5)\n",
      "memory usage: 728.3+ MB\n"
     ]
    }
   ],
   "source": [
    "df.info()"
   ]
  },
  {
   "cell_type": "code",
   "execution_count": 14,
   "metadata": {},
   "outputs": [],
   "source": [
    "df.fillna(0, inplace=True)"
   ]
  },
  {
   "cell_type": "code",
   "execution_count": 15,
   "metadata": {},
   "outputs": [
    {
     "data": {
      "text/html": [
       "<div>\n",
       "<style scoped>\n",
       "    .dataframe tbody tr th:only-of-type {\n",
       "        vertical-align: middle;\n",
       "    }\n",
       "\n",
       "    .dataframe tbody tr th {\n",
       "        vertical-align: top;\n",
       "    }\n",
       "\n",
       "    .dataframe thead th {\n",
       "        text-align: right;\n",
       "    }\n",
       "</style>\n",
       "<table border=\"1\" class=\"dataframe\">\n",
       "  <thead>\n",
       "    <tr style=\"text-align: right;\">\n",
       "      <th></th>\n",
       "      <th>MONTH</th>\n",
       "      <th>TAIL_NUM</th>\n",
       "      <th>ORIGIN</th>\n",
       "      <th>ORIGIN_STATE_NM</th>\n",
       "      <th>DEST</th>\n",
       "      <th>DEST_STATE_NM</th>\n",
       "      <th>CRS_DEP_TIME</th>\n",
       "      <th>DEP_TIME</th>\n",
       "      <th>DEP_DELAY</th>\n",
       "      <th>CRS_ARR_TIME</th>\n",
       "      <th>...</th>\n",
       "      <th>ARR_DELAY</th>\n",
       "      <th>CANCELLED</th>\n",
       "      <th>DIVERTED</th>\n",
       "      <th>AIR_TIME</th>\n",
       "      <th>DISTANCE</th>\n",
       "      <th>CARRIER_DELAY</th>\n",
       "      <th>WEATHER_DELAY</th>\n",
       "      <th>NAS_DELAY</th>\n",
       "      <th>SECURITY_DELAY</th>\n",
       "      <th>LATE_AIRCRAFT_DELAY</th>\n",
       "    </tr>\n",
       "  </thead>\n",
       "  <tbody>\n",
       "    <tr>\n",
       "      <th>0</th>\n",
       "      <td>4</td>\n",
       "      <td>N131EV</td>\n",
       "      <td>ABE</td>\n",
       "      <td>Pennsylvania</td>\n",
       "      <td>ATL</td>\n",
       "      <td>Georgia</td>\n",
       "      <td>630</td>\n",
       "      <td>626.0</td>\n",
       "      <td>-4.0</td>\n",
       "      <td>852</td>\n",
       "      <td>...</td>\n",
       "      <td>0.0</td>\n",
       "      <td>0</td>\n",
       "      <td>1</td>\n",
       "      <td>0.0</td>\n",
       "      <td>692</td>\n",
       "      <td>0.0</td>\n",
       "      <td>0.0</td>\n",
       "      <td>0.0</td>\n",
       "      <td>0.0</td>\n",
       "      <td>0.0</td>\n",
       "    </tr>\n",
       "    <tr>\n",
       "      <th>1</th>\n",
       "      <td>4</td>\n",
       "      <td>N131EV</td>\n",
       "      <td>ABE</td>\n",
       "      <td>Pennsylvania</td>\n",
       "      <td>ATL</td>\n",
       "      <td>Georgia</td>\n",
       "      <td>1230</td>\n",
       "      <td>1322.0</td>\n",
       "      <td>52.0</td>\n",
       "      <td>1445</td>\n",
       "      <td>...</td>\n",
       "      <td>60.0</td>\n",
       "      <td>0</td>\n",
       "      <td>0</td>\n",
       "      <td>119.0</td>\n",
       "      <td>692</td>\n",
       "      <td>0.0</td>\n",
       "      <td>60.0</td>\n",
       "      <td>0.0</td>\n",
       "      <td>0.0</td>\n",
       "      <td>0.0</td>\n",
       "    </tr>\n",
       "    <tr>\n",
       "      <th>2</th>\n",
       "      <td>4</td>\n",
       "      <td>N131EV</td>\n",
       "      <td>ABE</td>\n",
       "      <td>Pennsylvania</td>\n",
       "      <td>CLT</td>\n",
       "      <td>North Carolina</td>\n",
       "      <td>600</td>\n",
       "      <td>558.0</td>\n",
       "      <td>-2.0</td>\n",
       "      <td>759</td>\n",
       "      <td>...</td>\n",
       "      <td>-6.0</td>\n",
       "      <td>0</td>\n",
       "      <td>0</td>\n",
       "      <td>94.0</td>\n",
       "      <td>481</td>\n",
       "      <td>0.0</td>\n",
       "      <td>0.0</td>\n",
       "      <td>0.0</td>\n",
       "      <td>0.0</td>\n",
       "      <td>0.0</td>\n",
       "    </tr>\n",
       "    <tr>\n",
       "      <th>3</th>\n",
       "      <td>4</td>\n",
       "      <td>N131EV</td>\n",
       "      <td>ABE</td>\n",
       "      <td>Pennsylvania</td>\n",
       "      <td>CLT</td>\n",
       "      <td>North Carolina</td>\n",
       "      <td>1716</td>\n",
       "      <td>1835.0</td>\n",
       "      <td>79.0</td>\n",
       "      <td>1912</td>\n",
       "      <td>...</td>\n",
       "      <td>71.0</td>\n",
       "      <td>0</td>\n",
       "      <td>0</td>\n",
       "      <td>80.0</td>\n",
       "      <td>481</td>\n",
       "      <td>0.0</td>\n",
       "      <td>52.0</td>\n",
       "      <td>0.0</td>\n",
       "      <td>0.0</td>\n",
       "      <td>19.0</td>\n",
       "    </tr>\n",
       "    <tr>\n",
       "      <th>4</th>\n",
       "      <td>4</td>\n",
       "      <td>N131EV</td>\n",
       "      <td>ABE</td>\n",
       "      <td>Pennsylvania</td>\n",
       "      <td>ORD</td>\n",
       "      <td>Illinois</td>\n",
       "      <td>711</td>\n",
       "      <td>1107.0</td>\n",
       "      <td>236.0</td>\n",
       "      <td>834</td>\n",
       "      <td>...</td>\n",
       "      <td>222.0</td>\n",
       "      <td>0</td>\n",
       "      <td>0</td>\n",
       "      <td>111.0</td>\n",
       "      <td>655</td>\n",
       "      <td>222.0</td>\n",
       "      <td>0.0</td>\n",
       "      <td>0.0</td>\n",
       "      <td>0.0</td>\n",
       "      <td>0.0</td>\n",
       "    </tr>\n",
       "  </tbody>\n",
       "</table>\n",
       "<p>5 rows × 21 columns</p>\n",
       "</div>"
      ],
      "text/plain": [
       "   MONTH TAIL_NUM ORIGIN ORIGIN_STATE_NM DEST   DEST_STATE_NM  CRS_DEP_TIME  \\\n",
       "0      4   N131EV    ABE    Pennsylvania  ATL         Georgia           630   \n",
       "1      4   N131EV    ABE    Pennsylvania  ATL         Georgia          1230   \n",
       "2      4   N131EV    ABE    Pennsylvania  CLT  North Carolina           600   \n",
       "3      4   N131EV    ABE    Pennsylvania  CLT  North Carolina          1716   \n",
       "4      4   N131EV    ABE    Pennsylvania  ORD        Illinois           711   \n",
       "\n",
       "   DEP_TIME  DEP_DELAY  CRS_ARR_TIME  ...  ARR_DELAY  CANCELLED  DIVERTED  \\\n",
       "0     626.0       -4.0           852  ...        0.0          0         1   \n",
       "1    1322.0       52.0          1445  ...       60.0          0         0   \n",
       "2     558.0       -2.0           759  ...       -6.0          0         0   \n",
       "3    1835.0       79.0          1912  ...       71.0          0         0   \n",
       "4    1107.0      236.0           834  ...      222.0          0         0   \n",
       "\n",
       "   AIR_TIME  DISTANCE  CARRIER_DELAY  WEATHER_DELAY  NAS_DELAY  \\\n",
       "0       0.0       692            0.0            0.0        0.0   \n",
       "1     119.0       692            0.0           60.0        0.0   \n",
       "2      94.0       481            0.0            0.0        0.0   \n",
       "3      80.0       481            0.0           52.0        0.0   \n",
       "4     111.0       655          222.0            0.0        0.0   \n",
       "\n",
       "   SECURITY_DELAY  LATE_AIRCRAFT_DELAY  \n",
       "0             0.0                  0.0  \n",
       "1             0.0                  0.0  \n",
       "2             0.0                  0.0  \n",
       "3             0.0                 19.0  \n",
       "4             0.0                  0.0  \n",
       "\n",
       "[5 rows x 21 columns]"
      ]
     },
     "execution_count": 15,
     "metadata": {},
     "output_type": "execute_result"
    }
   ],
   "source": [
    "df.head()"
   ]
  },
  {
   "cell_type": "code",
   "execution_count": 16,
   "metadata": {},
   "outputs": [
    {
     "name": "stdout",
     "output_type": "stream",
     "text": [
      "MONTH                        0\n",
      "TAIL_NUM                 13550\n",
      "ORIGIN                       0\n",
      "ORIGIN_STATE_NM              0\n",
      "DEST                         0\n",
      "DEST_STATE_NM                0\n",
      "CRS_DEP_TIME                 0\n",
      "DEP_TIME                 72890\n",
      "DEP_DELAY               279574\n",
      "CRS_ARR_TIME                 0\n",
      "ARR_TIME                 76876\n",
      "ARR_DELAY               170621\n",
      "CANCELLED              4469806\n",
      "DIVERTED               4532776\n",
      "AIR_TIME                 88263\n",
      "DISTANCE                     0\n",
      "CARRIER_DELAY          3963389\n",
      "WEATHER_DELAY          4487358\n",
      "NAS_DELAY              4056978\n",
      "SECURITY_DELAY         4539723\n",
      "LATE_AIRCRAFT_DELAY    4012503\n",
      "dtype: int64\n"
     ]
    }
   ],
   "source": [
    "zero_count = (df == 0).sum()\n",
    "print(zero_count)"
   ]
  },
  {
   "cell_type": "code",
   "execution_count": 17,
   "metadata": {},
   "outputs": [
    {
     "name": "stdout",
     "output_type": "stream",
     "text": [
      "MONTH                  0\n",
      "TAIL_NUM               0\n",
      "ORIGIN                 0\n",
      "ORIGIN_STATE_NM        0\n",
      "DEST                   0\n",
      "DEST_STATE_NM          0\n",
      "CRS_DEP_TIME           0\n",
      "DEP_TIME               0\n",
      "DEP_DELAY              0\n",
      "CRS_ARR_TIME           0\n",
      "ARR_TIME               0\n",
      "ARR_DELAY              0\n",
      "CANCELLED              0\n",
      "DIVERTED               0\n",
      "AIR_TIME               0\n",
      "DISTANCE               0\n",
      "CARRIER_DELAY          0\n",
      "WEATHER_DELAY          0\n",
      "NAS_DELAY              0\n",
      "SECURITY_DELAY         0\n",
      "LATE_AIRCRAFT_DELAY    0\n",
      "dtype: int64\n"
     ]
    }
   ],
   "source": [
    "nan_count = df.isna().sum()\n",
    "print(nan_count)"
   ]
  },
  {
   "cell_type": "code",
   "execution_count": 18,
   "metadata": {},
   "outputs": [
    {
     "name": "stdout",
     "output_type": "stream",
     "text": [
      "<class 'pandas.core.frame.DataFrame'>\n",
      "RangeIndex: 4545422 entries, 0 to 4545421\n",
      "Data columns (total 21 columns):\n",
      " #   Column               Dtype  \n",
      "---  ------               -----  \n",
      " 0   MONTH                int64  \n",
      " 1   TAIL_NUM             object \n",
      " 2   ORIGIN               object \n",
      " 3   ORIGIN_STATE_NM      object \n",
      " 4   DEST                 object \n",
      " 5   DEST_STATE_NM        object \n",
      " 6   CRS_DEP_TIME         int64  \n",
      " 7   DEP_TIME             float64\n",
      " 8   DEP_DELAY            float64\n",
      " 9   CRS_ARR_TIME         int64  \n",
      " 10  ARR_TIME             float64\n",
      " 11  ARR_DELAY            float64\n",
      " 12  CANCELLED            int64  \n",
      " 13  DIVERTED             int64  \n",
      " 14  AIR_TIME             float64\n",
      " 15  DISTANCE             int64  \n",
      " 16  CARRIER_DELAY        float64\n",
      " 17  WEATHER_DELAY        float64\n",
      " 18  NAS_DELAY            float64\n",
      " 19  SECURITY_DELAY       float64\n",
      " 20  LATE_AIRCRAFT_DELAY  float64\n",
      "dtypes: float64(10), int64(6), object(5)\n",
      "memory usage: 728.3+ MB\n"
     ]
    }
   ],
   "source": [
    "df.info()"
   ]
  },
  {
   "cell_type": "code",
   "execution_count": 19,
   "metadata": {},
   "outputs": [
    {
     "name": "stdout",
     "output_type": "stream",
     "text": [
      "Mean Squared Error: 108.83547878802993\n"
     ]
    }
   ],
   "source": [
    "\n",
    "df['TAIL_NUM'] = df['TAIL_NUM'].astype(str)\n",
    "le = LabelEncoder()\n",
    "\n",
    "categorical_columns = ['TAIL_NUM', 'ORIGIN', 'ORIGIN_STATE_NM', 'DEST', 'DEST_STATE_NM']\n",
    "for col in categorical_columns:\n",
    "    df[col] = le.fit_transform(df[col])\n",
    "\n",
    "X = df.drop(['DEP_DELAY'], axis=1)\n",
    "y = df['DEP_DELAY']\n",
    "\n",
    "\n",
    "X_train, X_test, y_train, y_test = train_test_split(X, y, test_size=0.2, random_state=42)\n",
    "\n",
    "model = XGBRegressor()\n",
    "model.fit(X_train, y_train)\n",
    "\n",
    "\n",
    "y_pred = model.predict(X_test)\n",
    "\n",
    "\n",
    "mse = mean_squared_error(y_test, y_pred)\n",
    "print(f'Mean Squared Error: {mse}')"
   ]
  },
  {
   "cell_type": "code",
   "execution_count": 20,
   "metadata": {},
   "outputs": [
    {
     "name": "stdout",
     "output_type": "stream",
     "text": [
      "Accuracy: 0.9882233234516025\n",
      "              precision    recall  f1-score   support\n",
      "\n",
      "           0       0.99      1.00      0.99    712530\n",
      "           1       0.98      0.96      0.97    196555\n",
      "\n",
      "    accuracy                           0.99    909085\n",
      "   macro avg       0.99      0.98      0.98    909085\n",
      "weighted avg       0.99      0.99      0.99    909085\n",
      "\n"
     ]
    }
   ],
   "source": [
    "# Assuming 15 minutes as the threshold for departure delay\n",
    "delay_threshold = 15\n",
    "\n",
    "# Create binary target variable\n",
    "df['DELAY_LABEL'] = (df['DEP_DELAY'] > delay_threshold).astype(int)\n",
    "\n",
    "# Convert categorical columns to numerical using LabelEncoder\n",
    "df['TAIL_NUM'] = df['TAIL_NUM'].astype(str)\n",
    "le = LabelEncoder()\n",
    "\n",
    "categorical_columns = ['TAIL_NUM', 'ORIGIN', 'ORIGIN_STATE_NM', 'DEST', 'DEST_STATE_NM']\n",
    "for col in categorical_columns:\n",
    "    df[col] = le.fit_transform(df[col])\n",
    "\n",
    "# Features (X) and target variable (y)\n",
    "X = df.drop(['DEP_DELAY', 'DELAY_LABEL'], axis=1)\n",
    "y = df['DELAY_LABEL']\n",
    "\n",
    "# Split the data into training and testing sets\n",
    "X_train, X_test, y_train, y_test = train_test_split(X, y, test_size=0.2, random_state=42)\n",
    "\n",
    "# Create XGBoost classifier\n",
    "model = XGBClassifier()\n",
    "model.fit(X_train, y_train)\n",
    "\n",
    "# Make predictions on the test set\n",
    "y_pred = model.predict(X_test)\n",
    "\n",
    "# Evaluate the model\n",
    "accuracy = accuracy_score(y_test, y_pred)\n",
    "print(f'Accuracy: {accuracy}')\n",
    "\n",
    "print(classification_report(y_test, y_pred))"
   ]
  },
  {
   "cell_type": "code",
   "execution_count": 21,
   "metadata": {},
   "outputs": [
    {
     "data": {
      "image/png": "[encoded data removed]",
      "text/plain": [
       "<Figure size 800x600 with 2 Axes>"
      ]
     },
     "metadata": {},
     "output_type": "display_data"
    }
   ],
   "source": [
    "\n",
    "cm = confusion_matrix(y_test, y_pred)\n",
    "\n",
    "plt.figure(figsize=(8, 6))\n",
    "sns.heatmap(cm, annot=True, fmt='d', cmap='Blues', xticklabels=['No Delay', 'Delay'], yticklabels=['No Delay', 'Delay'])\n",
    "plt.title('Confusion Matrix')\n",
    "plt.xlabel('Predicted')\n",
    "plt.ylabel('Actual')\n",
    "plt.show()"
   ]
  },
  {
   "cell_type": "markdown",
   "metadata": {},
   "source": [
    "#### From the cofusion matrix\n",
    "<table>\n",
    "  <thead>\n",
    "    <tr>\n",
    "      <th></th>\n",
    "      <th>Predicted No Delay</th>\n",
    "      <th>Predicted Delay</th>\n",
    "    </tr>\n",
    "  </thead>\n",
    "  <tbody>\n",
    "    <tr>\n",
    "      <td>Actual No Delay</td>\n",
    "      <td>709337 (True Negative)</td>\n",
    "      <td>3193 (False Positive)</td>\n",
    "    </tr>\n",
    "    <tr>\n",
    "      <td>Actual Delay</td>\n",
    "      <td>7288 (False Negative)</td>\n",
    "      <td>189267 (True Positive)</td>\n",
    "    </tr>\n",
    "  </tbody>\n",
    "</table>"
   ]
  },
  {
   "cell_type": "markdown",
   "metadata": {},
   "source": [
    "Here's the interpret it in the context of predicting flight delays: <br>\n",
    "\n",
    "`Actual No Delay (Negative Class):` `709337` instances where the actual outcome was No Delay, and the model correctly predicted No Delay (True Negative).\n",
    "\n",
    "`Actual Delay (Positive Class):` `189267` instances where the actual outcome was Delay, and the model correctly predicted Delay (True Positive).\n",
    "\n",
    "`False Positive:` `3193` instances where the model incorrectly predicted Delay when the actual outcome was No Delay.\n",
    "\n",
    "`False Negative:` `7288` instances where the model incorrectly predicted No Delay when the actual outcome was Delay.\n",
    "\n",
    "In the context of predicting flight delays:\n",
    "\n",
    "`True Negative (TN)`: The number of flights correctly predicted as No Delay when there was indeed no delay.\n",
    "\n",
    "`False Positive (FP)`: The number of flights incorrectly predicted as Delay when there was no delay (Type I error).\n",
    "\n",
    "`False Negative (FN)`: The number of flights incorrectly predicted as No Delay when there was a delay (Type II error).\n",
    "\n",
    "`True Positive (TP)`: The number of flights correctly predicted as Delay when there was indeed a delay."
   ]
  },
  {
   "cell_type": "markdown",
   "metadata": {},
   "source": [
    "#### Why I decided to use XGBRegressor and XGBClassifier"
   ]
  },
  {
   "cell_type": "markdown",
   "metadata": {},
   "source": [
    "The choice between XGBRegressor and XGBClassifier depends on the nature of the prediction problem: regression or classification.\n",
    "\n",
    "- XGBRegressor:\n",
    "\n",
    "Use Case: XGBRegressor is used when the target variable is continuous, and the goal is to predict a numeric value.\n",
    "Example: In my original code, you used XGBRegressor because I was predicting the departure delay (DEP_DELAY), which is a continuous variable representing the amount of delay in minutes.\n",
    "\n",
    "`model = XGBRegressor()`\n",
    "\n",
    "- XGBClassifier:\n",
    "\n",
    "Use Case: XGBClassifier is used when the target variable is categorical, and the goal is to predict a class label (binary or multiclass).\n",
    "Example: In the modified code for binary classification, I used XGBClassifier because the new target variable `DELAY_LABEL`` is binary (0 or 1), indicating whether there is a departure delay or not.\n",
    "\n",
    "`model = XGBClassifier()`\n",
    "\n",
    "In summary, the choice between XGBRegressor and XGBClassifier is driven by the type of prediction problem I'm working on. If you're predicting a numeric value, you use a regressor. If you're predicting a category or label, you use a classifier.\n",
    "\n",
    "`XGBoost` (eXtreme Gradient Boosting) is a versatile machine learning library that provides implementations for both `regression` and `classification` tasks. The underlying algorithm is based on gradient boosting, which builds an ensemble of weak learners (typically decision trees) in a sequential manner, with each new tree correcting the errors of the previous ones. This makes XGBoost well-suited for a wide range of predictive modeling tasks."
   ]
  }
 ],
 "metadata": {
  "kernelspec": {
   "display_name": "Python 3",
   "language": "python",
   "name": "python3"
  },
  "language_info": {
   "codemirror_mode": {
    "name": "ipython",
    "version": 3
   },
   "file_extension": ".py",
   "mimetype": "text/x-python",
   "name": "python",
   "nbconvert_exporter": "python",
   "pygments_lexer": "ipython3",
   "version": "3.11.3"
  }
 },
 "nbformat": 4,
 "nbformat_minor": 2
}
